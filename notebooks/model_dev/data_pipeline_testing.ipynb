{
 "cells": [
  {
   "cell_type": "code",
   "execution_count": null,
   "id": "0",
   "metadata": {},
   "outputs": [],
   "source": [
    "import os\n",
    "import sys\n",
    "\n",
    "import matplotlib.pyplot as plt\n",
    "\n",
    "# Ensure the project root is in sys.path for absolute imports\n",
    "project_root = os.path.abspath(os.path.join(os.getcwd(), \"..\", \"..\"))\n",
    "\n",
    "# Add the project root to sys.path if it's not already there\n",
    "if project_root not in sys.path:\n",
    "    sys.path.insert(0, project_root)\n",
    "\n",
    "from src.pipelines import data_pipeline  # noqa: E402"
   ]
  },
  {
   "cell_type": "code",
   "execution_count": null,
   "id": "1",
   "metadata": {},
   "outputs": [],
   "source": [
    "lf = data_pipeline.run_data_pipeline(path=r\"\")\n",
    "df = lf.collect()\n",
    "\n",
    "gold_price_cols = [\n",
    "    col for col in df.columns if col.startswith(\"Gold_Price\") or col == \"Date\"\n",
    "]\n",
    "if gold_price_cols:\n",
    "    print(df.select(gold_price_cols).tail(5))"
   ]
  },
  {
   "cell_type": "code",
   "execution_count": null,
   "id": "2",
   "metadata": {},
   "outputs": [],
   "source": [
    "gold = df.select(gold_price_cols)\n",
    "gold"
   ]
  },
  {
   "cell_type": "code",
   "execution_count": null,
   "id": "3",
   "metadata": {},
   "outputs": [],
   "source": [
    "var_std_cols = [col for col in gold.columns if \"var\" in col or \"std\" in col]\n",
    "\n",
    "if var_std_cols:\n",
    "    var_std_data = gold.select([\"Date\", *var_std_cols])\n",
    "\n",
    "    for col in var_std_cols:\n",
    "        plt.figure(figsize=(10, 6))\n",
    "        plt.plot(var_std_data[\"Date\"], var_std_data[col], label=col)\n",
    "        plt.title(f\"{col} Over Time\")\n",
    "        plt.xlabel(\"Date\")\n",
    "        plt.ylabel(col)\n",
    "        plt.legend()\n",
    "        plt.show()\n",
    "else:\n",
    "    print(\"No columns with 'var' or 'std' found in the dataset.\")"
   ]
  }
 ],
 "metadata": {
  "kernelspec": {
   "display_name": ".venv",
   "language": "python",
   "name": "python3"
  },
  "language_info": {
   "codemirror_mode": {
    "name": "ipython",
    "version": 3
   },
   "file_extension": ".py",
   "mimetype": "text/x-python",
   "name": "python",
   "nbconvert_exporter": "python",
   "pygments_lexer": "ipython3",
   "version": "3.13.3"
  }
 },
 "nbformat": 4,
 "nbformat_minor": 5
}
