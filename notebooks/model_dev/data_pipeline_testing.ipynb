{
 "cells": [
  {
   "cell_type": "code",
   "execution_count": null,
   "id": "0",
   "metadata": {},
   "outputs": [],
   "source": [
    "import os\n",
    "import sys\n",
    "\n",
    "import matplotlib.pyplot as plt\n",
    "import seaborn as sns\n",
    "\n",
    "# Ensure the project root is in sys.path for absolute imports\n",
    "project_root = os.path.abspath(os.path.join(os.getcwd(), \"..\", \"..\"))\n",
    "\n",
    "# Add the project root to sys.path if it's not already there\n",
    "if project_root not in sys.path:\n",
    "    sys.path.insert(0, project_root)\n",
    "\n",
    "from src.pipelines import data_pipeline  # noqa: E402"
   ]
  },
  {
   "cell_type": "code",
   "execution_count": null,
   "id": "1",
   "metadata": {},
   "outputs": [],
   "source": [
    "lf = data_pipeline.run_data_pipeline(path=r\"\")\n",
    "df = lf.collect()\n",
    "\n",
    "gold_price_cols = [\n",
    "    col for col in df.columns if col.startswith(\"Gold_High\") or col == \"Date\"\n",
    "]\n",
    "if gold_price_cols:\n",
    "    print(df.select(gold_price_cols).tail(5))"
   ]
  },
  {
   "cell_type": "code",
   "execution_count": null,
   "id": "2",
   "metadata": {},
   "outputs": [],
   "source": [
    "gold = df.select(gold_price_cols)\n",
    "gold"
   ]
  },
  {
   "cell_type": "code",
   "execution_count": null,
   "id": "3",
   "metadata": {},
   "outputs": [],
   "source": [
    "var_std_cols = [col for col in gold.columns if \"var\" in col or \"std\" in col]\n",
    "\n",
    "if var_std_cols:\n",
    "    var_std_data = gold.select([\"Date\", *var_std_cols])\n",
    "    for col in var_std_cols:\n",
    "        plt.figure(figsize=(10, 6))\n",
    "        plt.plot(var_std_data[\"Date\"], var_std_data[col], label=col)\n",
    "        plt.title(f\"{col} Over Time\")\n",
    "        plt.xlabel(\"Date\")\n",
    "        plt.ylabel(col)\n",
    "        plt.legend()\n",
    "        plt.show()\n",
    "else:\n",
    "    print(\"No columns with 'var' or 'std' found in the dataset.\")"
   ]
  },
  {
   "cell_type": "code",
   "execution_count": null,
   "id": "4",
   "metadata": {},
   "outputs": [],
   "source": [
    "# Compute the covariance matrix for all features\n",
    "covariance_matrix = gold.drop([\"Date\", \"Gold_Price_was_null\"]).to_pandas().cov()\n",
    "\n",
    "# Plot the covariance matrix as a heatmap\n",
    "plt.figure(figsize=(12, 10))\n",
    "sns.heatmap(covariance_matrix, annot=False, cmap=\"viridis\", fmt=\".2f\")\n",
    "plt.title(\"Covariance Matrix Heatmap\")\n",
    "plt.show()"
   ]
  },
  {
   "cell_type": "code",
   "execution_count": null,
   "id": "5",
   "metadata": {},
   "outputs": [],
   "source": [
    "# Compute the correlation matrix for all features\n",
    "correlation_matrix = gold.drop([\"Date\", \"Gold_Price_was_null\"]).to_pandas().corr()\n",
    "\n",
    "# Plot the correlation matrix as a heatmap\n",
    "plt.figure(figsize=(12, 10))\n",
    "sns.heatmap(correlation_matrix, annot=False, cmap=\"viridis\", fmt=\".2f\")\n",
    "plt.title(\"Correlation Matrix Heatmap\")\n",
    "plt.show()"
   ]
  },
  {
   "cell_type": "code",
   "execution_count": null,
   "id": "6",
   "metadata": {},
   "outputs": [],
   "source": [
    "# Compute the rolling standard deviation covariance matrix\n",
    "rolling_std_columns = [col for col in gold.columns if \"return_rolling_std\" in col]\n",
    "covariance_matrix = gold.select(rolling_std_columns).to_pandas().cov()\n",
    "\n",
    "# Plot the covariance matrix as a heatmap\n",
    "plt.figure(figsize=(12, 10))\n",
    "sns.heatmap(covariance_matrix, annot=False, cmap=\"viridis\", fmt=\".2f\")\n",
    "plt.title(\"Rolling Standard Deviation Covariance Matrix Heatmap\")\n",
    "plt.show()"
   ]
  },
  {
   "cell_type": "code",
   "execution_count": null,
   "id": "7",
   "metadata": {},
   "outputs": [],
   "source": [
    "# Compute the rolling standard deviation correlation matrix\n",
    "rolling_std_columns = [col for col in gold.columns if \"return_rolling_std\" in col]\n",
    "correlation_matrix = gold.select(rolling_std_columns).to_pandas().corr()\n",
    "\n",
    "# Plot the correlation matrix as a heatmap\n",
    "plt.figure(figsize=(12, 10))\n",
    "sns.heatmap(correlation_matrix, annot=False, cmap=\"viridis\", fmt=\".2f\")\n",
    "plt.title(\"Rolling Standard Deviation Correlation Matrix Heatmap\")\n",
    "plt.show()"
   ]
  }
 ],
 "metadata": {
  "kernelspec": {
   "display_name": ".venv",
   "language": "python",
   "name": "python3"
  },
  "language_info": {
   "codemirror_mode": {
    "name": "ipython",
    "version": 3
   },
   "file_extension": ".py",
   "mimetype": "text/x-python",
   "name": "python",
   "nbconvert_exporter": "python",
   "pygments_lexer": "ipython3",
   "version": "3.13.3"
  }
 },
 "nbformat": 4,
 "nbformat_minor": 5
}
